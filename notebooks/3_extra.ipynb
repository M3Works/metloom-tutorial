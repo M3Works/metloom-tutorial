{
 "cells": [
  {
   "cell_type": "markdown",
   "id": "cb0c350e",
   "metadata": {},
   "source": [
    "# What haven't we coverd\n"
   ]
  },
  {
   "cell_type": "markdown",
   "id": "6b067d09",
   "metadata": {},
   "source": [
    "## Saving data\n",
    "\n"
   ]
  },
  {
   "cell_type": "markdown",
   "id": "1fa59ba8",
   "metadata": {},
   "source": [
    "## Extending classes\n",
    "Add a new variable"
   ]
  },
  {
   "cell_type": "markdown",
   "id": "a552366d",
   "metadata": {},
   "source": [
    "## mesowest\n",
    "How do we get mesowest data"
   ]
  },
  {
   "cell_type": "code",
   "execution_count": null,
   "id": "3c280e15",
   "metadata": {},
   "outputs": [],
   "source": []
  }
 ],
 "metadata": {
  "kernelspec": {
   "display_name": "Python 3 (ipykernel)",
   "language": "python",
   "name": "python3"
  },
  "language_info": {
   "codemirror_mode": {
    "name": "ipython",
    "version": 3
   },
   "file_extension": ".py",
   "mimetype": "text/x-python",
   "name": "python",
   "nbconvert_exporter": "python",
   "pygments_lexer": "ipython3",
   "version": "3.9.15"
  }
 },
 "nbformat": 4,
 "nbformat_minor": 5
}
