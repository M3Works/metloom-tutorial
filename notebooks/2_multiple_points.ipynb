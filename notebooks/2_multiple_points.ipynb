{
 "cells": [
  {
   "cell_type": "code",
   "execution_count": null,
   "id": "0803c84a",
   "metadata": {},
   "outputs": [],
   "source": []
  },
  {
   "cell_type": "markdown",
   "id": "ad6528bc",
   "metadata": {},
   "source": [
    "* Searching for points\n",
    "    * buffer\n",
    "    * point metadata\n",
    "    * point iterator\n",
    " * Plotting data\n",
    " * Data from multiple points\n",
    " * "
   ]
  },
  {
   "cell_type": "code",
   "execution_count": null,
   "id": "f9dad1cf",
   "metadata": {},
   "outputs": [],
   "source": []
  }
 ],
 "metadata": {
  "kernelspec": {
   "display_name": "Python 3 (ipykernel)",
   "language": "python",
   "name": "python3"
  },
  "language_info": {
   "codemirror_mode": {
    "name": "ipython",
    "version": 3
   },
   "file_extension": ".py",
   "mimetype": "text/x-python",
   "name": "python",
   "nbconvert_exporter": "python",
   "pygments_lexer": "ipython3",
   "version": "3.9.15"
  }
 },
 "nbformat": 4,
 "nbformat_minor": 5
}
