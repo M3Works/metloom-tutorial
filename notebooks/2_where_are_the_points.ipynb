{
 "cells": [
  {
   "cell_type": "markdown",
   "id": "3d8b50c7",
   "metadata": {},
   "source": [
    "# Where in the world are these stations?"
   ]
  },
  {
   "cell_type": "markdown",
   "id": "c1ff413c",
   "metadata": {},
   "source": [
    "One common frustration is finding relevant stations for analysis and validation\n",
    "\n",
    "**What are some methods you have used to identify stations that fit your research?**"
   ]
  },
  {
   "cell_type": "code",
   "execution_count": null,
   "id": "9231cb26",
   "metadata": {},
   "outputs": [],
   "source": [
    "# Imports\n",
    "from datetime import datetime\n",
    "import pandas as pd\n",
    "import geopandas as gpd\n",
    "\n",
    "from metloom.pointdata import SnotelPointData, CDECPointData"
   ]
  },
  {
   "cell_type": "markdown",
   "id": "ffc9a610",
   "metadata": {},
   "source": [
    "## Search for points in an area"
   ]
  },
  {
   "cell_type": "code",
   "execution_count": null,
   "id": "69501ab6",
   "metadata": {},
   "outputs": [],
   "source": [
    "# Find your area\n",
    "sf = gpd.read_file(<>)\n",
    "variables = [SnotelPointData.SnowDepth]\n",
    "\n",
    "points = SnotelPointData.points_from_geometry(sf, variables)\n",
    "print(len(points))\n",
    "# This is an iterator\n",
    "print(type(points))\n"
   ]
  },
  {
   "cell_type": "markdown",
   "id": "65e808fc",
   "metadata": {},
   "source": [
    "### What if I want a station nearby?"
   ]
  },
  {
   "cell_type": "code",
   "execution_count": null,
   "id": "17b66820",
   "metadata": {},
   "outputs": [],
   "source": [
    "# buffer\n",
    "# within_geometry"
   ]
  },
  {
   "cell_type": "code",
   "execution_count": null,
   "id": "5f8a001f",
   "metadata": {},
   "outputs": [],
   "source": [
    "## We haven't made a cool plot yet"
   ]
  },
  {
   "cell_type": "code",
   "execution_count": null,
   "id": "a3215268",
   "metadata": {},
   "outputs": [],
   "source": [
    "# turn that iterator into a dataframe\n",
    "df = points.to_dataframe()\n",
    "# look at what is in the dataframe\n",
    "df.head(10)\n",
    "\n",
    "# plot it\n",
    "df.explore()"
   ]
  },
  {
   "cell_type": "markdown",
   "id": "9067a52d",
   "metadata": {},
   "source": [
    "## Extra\n",
    "**How would we get the daily data for the first point from points?**"
   ]
  },
  {
   "cell_type": "code",
   "execution_count": null,
   "id": "dce90f1d",
   "metadata": {},
   "outputs": [],
   "source": []
  }
 ],
 "metadata": {
  "kernelspec": {
   "display_name": "Python 3 (ipykernel)",
   "language": "python",
   "name": "python3"
  },
  "language_info": {
   "codemirror_mode": {
    "name": "ipython",
    "version": 3
   },
   "file_extension": ".py",
   "mimetype": "text/x-python",
   "name": "python",
   "nbconvert_exporter": "python",
   "pygments_lexer": "ipython3",
   "version": "3.9.15"
  }
 },
 "nbformat": 4,
 "nbformat_minor": 5
}
